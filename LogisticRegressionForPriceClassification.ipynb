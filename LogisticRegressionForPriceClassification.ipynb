{
 "cells": [
  {
   "cell_type": "code",
   "execution_count": 1,
   "metadata": {},
   "outputs": [],
   "source": [
    "import pandas as pd\n",
    "import matplotlib.pyplot as plt"
   ]
  },
  {
   "cell_type": "code",
   "execution_count": 3,
   "metadata": {},
   "outputs": [
    {
     "data": {
      "text/html": [
       "<div>\n",
       "<style scoped>\n",
       "    .dataframe tbody tr th:only-of-type {\n",
       "        vertical-align: middle;\n",
       "    }\n",
       "\n",
       "    .dataframe tbody tr th {\n",
       "        vertical-align: top;\n",
       "    }\n",
       "\n",
       "    .dataframe thead th {\n",
       "        text-align: right;\n",
       "    }\n",
       "</style>\n",
       "<table border=\"1\" class=\"dataframe\">\n",
       "  <thead>\n",
       "    <tr style=\"text-align: right;\">\n",
       "      <th></th>\n",
       "      <th>longitude</th>\n",
       "      <th>latitude</th>\n",
       "      <th>housing_median_age</th>\n",
       "      <th>total_rooms</th>\n",
       "      <th>total_bedrooms</th>\n",
       "      <th>population</th>\n",
       "      <th>households</th>\n",
       "      <th>median_income</th>\n",
       "      <th>median_house_value</th>\n",
       "      <th>ocean_proximity</th>\n",
       "    </tr>\n",
       "  </thead>\n",
       "  <tbody>\n",
       "    <tr>\n",
       "      <th>15973</th>\n",
       "      <td>-122.40</td>\n",
       "      <td>37.72</td>\n",
       "      <td>41.0</td>\n",
       "      <td>1975.0</td>\n",
       "      <td>440.0</td>\n",
       "      <td>1528.0</td>\n",
       "      <td>424.0</td>\n",
       "      <td>3.8625</td>\n",
       "      <td>218300.0</td>\n",
       "      <td>NEAR BAY</td>\n",
       "    </tr>\n",
       "    <tr>\n",
       "      <th>12623</th>\n",
       "      <td>-121.53</td>\n",
       "      <td>38.48</td>\n",
       "      <td>5.0</td>\n",
       "      <td>27870.0</td>\n",
       "      <td>5027.0</td>\n",
       "      <td>11935.0</td>\n",
       "      <td>4855.0</td>\n",
       "      <td>4.8811</td>\n",
       "      <td>212200.0</td>\n",
       "      <td>INLAND</td>\n",
       "    </tr>\n",
       "    <tr>\n",
       "      <th>9800</th>\n",
       "      <td>-121.92</td>\n",
       "      <td>36.56</td>\n",
       "      <td>40.0</td>\n",
       "      <td>2124.0</td>\n",
       "      <td>449.0</td>\n",
       "      <td>643.0</td>\n",
       "      <td>341.0</td>\n",
       "      <td>5.5164</td>\n",
       "      <td>369100.0</td>\n",
       "      <td>NEAR OCEAN</td>\n",
       "    </tr>\n",
       "    <tr>\n",
       "      <th>12407</th>\n",
       "      <td>-116.29</td>\n",
       "      <td>33.72</td>\n",
       "      <td>5.0</td>\n",
       "      <td>3584.0</td>\n",
       "      <td>760.0</td>\n",
       "      <td>1097.0</td>\n",
       "      <td>470.0</td>\n",
       "      <td>3.1771</td>\n",
       "      <td>167400.0</td>\n",
       "      <td>INLAND</td>\n",
       "    </tr>\n",
       "    <tr>\n",
       "      <th>16348</th>\n",
       "      <td>-121.35</td>\n",
       "      <td>38.03</td>\n",
       "      <td>16.0</td>\n",
       "      <td>3158.0</td>\n",
       "      <td>515.0</td>\n",
       "      <td>1596.0</td>\n",
       "      <td>528.0</td>\n",
       "      <td>4.1739</td>\n",
       "      <td>131300.0</td>\n",
       "      <td>INLAND</td>\n",
       "    </tr>\n",
       "  </tbody>\n",
       "</table>\n",
       "</div>"
      ],
      "text/plain": [
       "       longitude  latitude  housing_median_age  total_rooms  total_bedrooms  \\\n",
       "15973    -122.40     37.72                41.0       1975.0           440.0   \n",
       "12623    -121.53     38.48                 5.0      27870.0          5027.0   \n",
       "9800     -121.92     36.56                40.0       2124.0           449.0   \n",
       "12407    -116.29     33.72                 5.0       3584.0           760.0   \n",
       "16348    -121.35     38.03                16.0       3158.0           515.0   \n",
       "\n",
       "       population  households  median_income  median_house_value  \\\n",
       "15973      1528.0       424.0         3.8625            218300.0   \n",
       "12623     11935.0      4855.0         4.8811            212200.0   \n",
       "9800        643.0       341.0         5.5164            369100.0   \n",
       "12407      1097.0       470.0         3.1771            167400.0   \n",
       "16348      1596.0       528.0         4.1739            131300.0   \n",
       "\n",
       "      ocean_proximity  \n",
       "15973        NEAR BAY  \n",
       "12623          INLAND  \n",
       "9800       NEAR OCEAN  \n",
       "12407          INLAND  \n",
       "16348          INLAND  "
      ]
     },
     "execution_count": 3,
     "metadata": {},
     "output_type": "execute_result"
    }
   ],
   "source": [
    "housing = pd.read_csv('datasets/housing.csv')\n",
    "housing.sample(5)"
   ]
  },
  {
   "cell_type": "code",
   "execution_count": 4,
   "metadata": {},
   "outputs": [
    {
     "data": {
      "text/plain": [
       "(20433, 10)"
      ]
     },
     "execution_count": 4,
     "metadata": {},
     "output_type": "execute_result"
    }
   ],
   "source": [
    "housing = housing.dropna()\n",
    "housing.shape"
   ]
  },
  {
   "cell_type": "code",
   "execution_count": 5,
   "metadata": {},
   "outputs": [],
   "source": [
    "housing = housing.drop(housing.loc[housing['median_house_value'] == 500001].index)"
   ]
  },
  {
   "cell_type": "code",
   "execution_count": 6,
   "metadata": {},
   "outputs": [
    {
     "data": {
      "text/plain": [
       "(19475, 10)"
      ]
     },
     "execution_count": 6,
     "metadata": {},
     "output_type": "execute_result"
    }
   ],
   "source": [
    "housing.shape"
   ]
  },
  {
   "cell_type": "code",
   "execution_count": 7,
   "metadata": {},
   "outputs": [
    {
     "data": {
      "text/plain": [
       "array(['NEAR BAY', '<1H OCEAN', 'INLAND', 'NEAR OCEAN', 'ISLAND'],\n",
       "      dtype=object)"
      ]
     },
     "execution_count": 7,
     "metadata": {},
     "output_type": "execute_result"
    }
   ],
   "source": [
    "housing['ocean_proximity'].unique()"
   ]
  },
  {
   "cell_type": "code",
   "execution_count": 8,
   "metadata": {},
   "outputs": [],
   "source": [
    "housing=pd.get_dummies(housing,columns=['ocean_proximity'])"
   ]
  },
  {
   "cell_type": "code",
   "execution_count": 9,
   "metadata": {},
   "outputs": [
    {
     "data": {
      "text/plain": [
       "(19475, 14)"
      ]
     },
     "execution_count": 9,
     "metadata": {},
     "output_type": "execute_result"
    }
   ],
   "source": [
    "housing.shape"
   ]
  },
  {
   "cell_type": "code",
   "execution_count": 10,
   "metadata": {},
   "outputs": [
    {
     "data": {
      "text/html": [
       "<div>\n",
       "<style scoped>\n",
       "    .dataframe tbody tr th:only-of-type {\n",
       "        vertical-align: middle;\n",
       "    }\n",
       "\n",
       "    .dataframe tbody tr th {\n",
       "        vertical-align: top;\n",
       "    }\n",
       "\n",
       "    .dataframe thead th {\n",
       "        text-align: right;\n",
       "    }\n",
       "</style>\n",
       "<table border=\"1\" class=\"dataframe\">\n",
       "  <thead>\n",
       "    <tr style=\"text-align: right;\">\n",
       "      <th></th>\n",
       "      <th>longitude</th>\n",
       "      <th>latitude</th>\n",
       "      <th>housing_median_age</th>\n",
       "      <th>total_rooms</th>\n",
       "      <th>total_bedrooms</th>\n",
       "      <th>population</th>\n",
       "      <th>households</th>\n",
       "      <th>median_income</th>\n",
       "      <th>median_house_value</th>\n",
       "      <th>ocean_proximity_&lt;1H OCEAN</th>\n",
       "      <th>ocean_proximity_INLAND</th>\n",
       "      <th>ocean_proximity_ISLAND</th>\n",
       "      <th>ocean_proximity_NEAR BAY</th>\n",
       "      <th>ocean_proximity_NEAR OCEAN</th>\n",
       "    </tr>\n",
       "  </thead>\n",
       "  <tbody>\n",
       "    <tr>\n",
       "      <th>12115</th>\n",
       "      <td>-117.25</td>\n",
       "      <td>33.95</td>\n",
       "      <td>5.0</td>\n",
       "      <td>13096.0</td>\n",
       "      <td>2208.0</td>\n",
       "      <td>6780.0</td>\n",
       "      <td>2180.0</td>\n",
       "      <td>4.2775</td>\n",
       "      <td>138700.0</td>\n",
       "      <td>0</td>\n",
       "      <td>1</td>\n",
       "      <td>0</td>\n",
       "      <td>0</td>\n",
       "      <td>0</td>\n",
       "    </tr>\n",
       "    <tr>\n",
       "      <th>4164</th>\n",
       "      <td>-118.19</td>\n",
       "      <td>34.10</td>\n",
       "      <td>42.0</td>\n",
       "      <td>1577.0</td>\n",
       "      <td>379.0</td>\n",
       "      <td>1317.0</td>\n",
       "      <td>378.0</td>\n",
       "      <td>3.2121</td>\n",
       "      <td>153900.0</td>\n",
       "      <td>1</td>\n",
       "      <td>0</td>\n",
       "      <td>0</td>\n",
       "      <td>0</td>\n",
       "      <td>0</td>\n",
       "    </tr>\n",
       "    <tr>\n",
       "      <th>9816</th>\n",
       "      <td>-121.93</td>\n",
       "      <td>36.62</td>\n",
       "      <td>39.0</td>\n",
       "      <td>869.0</td>\n",
       "      <td>173.0</td>\n",
       "      <td>406.0</td>\n",
       "      <td>165.0</td>\n",
       "      <td>4.0313</td>\n",
       "      <td>253800.0</td>\n",
       "      <td>0</td>\n",
       "      <td>0</td>\n",
       "      <td>0</td>\n",
       "      <td>0</td>\n",
       "      <td>1</td>\n",
       "    </tr>\n",
       "    <tr>\n",
       "      <th>13877</th>\n",
       "      <td>-117.31</td>\n",
       "      <td>34.43</td>\n",
       "      <td>16.0</td>\n",
       "      <td>5130.0</td>\n",
       "      <td>1172.0</td>\n",
       "      <td>3126.0</td>\n",
       "      <td>1046.0</td>\n",
       "      <td>1.6784</td>\n",
       "      <td>71900.0</td>\n",
       "      <td>0</td>\n",
       "      <td>1</td>\n",
       "      <td>0</td>\n",
       "      <td>0</td>\n",
       "      <td>0</td>\n",
       "    </tr>\n",
       "    <tr>\n",
       "      <th>4994</th>\n",
       "      <td>-118.29</td>\n",
       "      <td>33.99</td>\n",
       "      <td>46.0</td>\n",
       "      <td>2608.0</td>\n",
       "      <td>636.0</td>\n",
       "      <td>1766.0</td>\n",
       "      <td>596.0</td>\n",
       "      <td>1.5846</td>\n",
       "      <td>114800.0</td>\n",
       "      <td>1</td>\n",
       "      <td>0</td>\n",
       "      <td>0</td>\n",
       "      <td>0</td>\n",
       "      <td>0</td>\n",
       "    </tr>\n",
       "  </tbody>\n",
       "</table>\n",
       "</div>"
      ],
      "text/plain": [
       "       longitude  latitude  housing_median_age  total_rooms  total_bedrooms  \\\n",
       "12115    -117.25     33.95                 5.0      13096.0          2208.0   \n",
       "4164     -118.19     34.10                42.0       1577.0           379.0   \n",
       "9816     -121.93     36.62                39.0        869.0           173.0   \n",
       "13877    -117.31     34.43                16.0       5130.0          1172.0   \n",
       "4994     -118.29     33.99                46.0       2608.0           636.0   \n",
       "\n",
       "       population  households  median_income  median_house_value  \\\n",
       "12115      6780.0      2180.0         4.2775            138700.0   \n",
       "4164       1317.0       378.0         3.2121            153900.0   \n",
       "9816        406.0       165.0         4.0313            253800.0   \n",
       "13877      3126.0      1046.0         1.6784             71900.0   \n",
       "4994       1766.0       596.0         1.5846            114800.0   \n",
       "\n",
       "       ocean_proximity_<1H OCEAN  ocean_proximity_INLAND  \\\n",
       "12115                          0                       1   \n",
       "4164                           1                       0   \n",
       "9816                           0                       0   \n",
       "13877                          0                       1   \n",
       "4994                           1                       0   \n",
       "\n",
       "       ocean_proximity_ISLAND  ocean_proximity_NEAR BAY  \\\n",
       "12115                       0                         0   \n",
       "4164                        0                         0   \n",
       "9816                        0                         0   \n",
       "13877                       0                         0   \n",
       "4994                        0                         0   \n",
       "\n",
       "       ocean_proximity_NEAR OCEAN  \n",
       "12115                           0  \n",
       "4164                            0  \n",
       "9816                            1  \n",
       "13877                           0  \n",
       "4994                            0  "
      ]
     },
     "execution_count": 10,
     "metadata": {},
     "output_type": "execute_result"
    }
   ],
   "source": [
    "housing.sample(5)"
   ]
  },
  {
   "cell_type": "markdown",
   "metadata": {},
   "source": [
    "### Lets add a new column which says if the house price is above the median price or below the median price"
   ]
  },
  {
   "cell_type": "code",
   "execution_count": 15,
   "metadata": {},
   "outputs": [
    {
     "name": "stdout",
     "output_type": "stream",
     "text": [
      "173800.0\n"
     ]
    }
   ],
   "source": [
    "median = housing['median_house_value'].median()\n",
    "print(median)\n",
    "housing['above_median'] = ((housing['median_house_value'] - median) > 0)"
   ]
  },
  {
   "cell_type": "code",
   "execution_count": 17,
   "metadata": {},
   "outputs": [
    {
     "data": {
      "text/html": [
       "<div>\n",
       "<style scoped>\n",
       "    .dataframe tbody tr th:only-of-type {\n",
       "        vertical-align: middle;\n",
       "    }\n",
       "\n",
       "    .dataframe tbody tr th {\n",
       "        vertical-align: top;\n",
       "    }\n",
       "\n",
       "    .dataframe thead th {\n",
       "        text-align: right;\n",
       "    }\n",
       "</style>\n",
       "<table border=\"1\" class=\"dataframe\">\n",
       "  <thead>\n",
       "    <tr style=\"text-align: right;\">\n",
       "      <th></th>\n",
       "      <th>longitude</th>\n",
       "      <th>latitude</th>\n",
       "      <th>housing_median_age</th>\n",
       "      <th>total_rooms</th>\n",
       "      <th>total_bedrooms</th>\n",
       "      <th>population</th>\n",
       "      <th>households</th>\n",
       "      <th>median_income</th>\n",
       "      <th>median_house_value</th>\n",
       "      <th>ocean_proximity_&lt;1H OCEAN</th>\n",
       "      <th>ocean_proximity_INLAND</th>\n",
       "      <th>ocean_proximity_ISLAND</th>\n",
       "      <th>ocean_proximity_NEAR BAY</th>\n",
       "      <th>ocean_proximity_NEAR OCEAN</th>\n",
       "      <th>above_median</th>\n",
       "    </tr>\n",
       "  </thead>\n",
       "  <tbody>\n",
       "    <tr>\n",
       "      <th>11205</th>\n",
       "      <td>-117.91</td>\n",
       "      <td>33.83</td>\n",
       "      <td>37.0</td>\n",
       "      <td>1039.0</td>\n",
       "      <td>260.0</td>\n",
       "      <td>719.0</td>\n",
       "      <td>243.0</td>\n",
       "      <td>3.0288</td>\n",
       "      <td>161400.0</td>\n",
       "      <td>1</td>\n",
       "      <td>0</td>\n",
       "      <td>0</td>\n",
       "      <td>0</td>\n",
       "      <td>0</td>\n",
       "      <td>False</td>\n",
       "    </tr>\n",
       "    <tr>\n",
       "      <th>19173</th>\n",
       "      <td>-122.68</td>\n",
       "      <td>38.43</td>\n",
       "      <td>18.0</td>\n",
       "      <td>2723.0</td>\n",
       "      <td>529.0</td>\n",
       "      <td>1150.0</td>\n",
       "      <td>520.0</td>\n",
       "      <td>3.5885</td>\n",
       "      <td>191900.0</td>\n",
       "      <td>1</td>\n",
       "      <td>0</td>\n",
       "      <td>0</td>\n",
       "      <td>0</td>\n",
       "      <td>0</td>\n",
       "      <td>True</td>\n",
       "    </tr>\n",
       "    <tr>\n",
       "      <th>1969</th>\n",
       "      <td>-120.63</td>\n",
       "      <td>38.73</td>\n",
       "      <td>11.0</td>\n",
       "      <td>4577.0</td>\n",
       "      <td>836.0</td>\n",
       "      <td>1944.0</td>\n",
       "      <td>700.0</td>\n",
       "      <td>4.0675</td>\n",
       "      <td>140200.0</td>\n",
       "      <td>0</td>\n",
       "      <td>1</td>\n",
       "      <td>0</td>\n",
       "      <td>0</td>\n",
       "      <td>0</td>\n",
       "      <td>False</td>\n",
       "    </tr>\n",
       "    <tr>\n",
       "      <th>386</th>\n",
       "      <td>-122.29</td>\n",
       "      <td>37.90</td>\n",
       "      <td>52.0</td>\n",
       "      <td>1604.0</td>\n",
       "      <td>263.0</td>\n",
       "      <td>594.0</td>\n",
       "      <td>286.0</td>\n",
       "      <td>5.3380</td>\n",
       "      <td>270900.0</td>\n",
       "      <td>0</td>\n",
       "      <td>0</td>\n",
       "      <td>0</td>\n",
       "      <td>1</td>\n",
       "      <td>0</td>\n",
       "      <td>True</td>\n",
       "    </tr>\n",
       "    <tr>\n",
       "      <th>11983</th>\n",
       "      <td>-117.48</td>\n",
       "      <td>34.01</td>\n",
       "      <td>23.0</td>\n",
       "      <td>2000.0</td>\n",
       "      <td>376.0</td>\n",
       "      <td>1361.0</td>\n",
       "      <td>388.0</td>\n",
       "      <td>4.3690</td>\n",
       "      <td>121100.0</td>\n",
       "      <td>0</td>\n",
       "      <td>1</td>\n",
       "      <td>0</td>\n",
       "      <td>0</td>\n",
       "      <td>0</td>\n",
       "      <td>False</td>\n",
       "    </tr>\n",
       "  </tbody>\n",
       "</table>\n",
       "</div>"
      ],
      "text/plain": [
       "       longitude  latitude  housing_median_age  total_rooms  total_bedrooms  \\\n",
       "11205    -117.91     33.83                37.0       1039.0           260.0   \n",
       "19173    -122.68     38.43                18.0       2723.0           529.0   \n",
       "1969     -120.63     38.73                11.0       4577.0           836.0   \n",
       "386      -122.29     37.90                52.0       1604.0           263.0   \n",
       "11983    -117.48     34.01                23.0       2000.0           376.0   \n",
       "\n",
       "       population  households  median_income  median_house_value  \\\n",
       "11205       719.0       243.0         3.0288            161400.0   \n",
       "19173      1150.0       520.0         3.5885            191900.0   \n",
       "1969       1944.0       700.0         4.0675            140200.0   \n",
       "386         594.0       286.0         5.3380            270900.0   \n",
       "11983      1361.0       388.0         4.3690            121100.0   \n",
       "\n",
       "       ocean_proximity_<1H OCEAN  ocean_proximity_INLAND  \\\n",
       "11205                          1                       0   \n",
       "19173                          1                       0   \n",
       "1969                           0                       1   \n",
       "386                            0                       0   \n",
       "11983                          0                       1   \n",
       "\n",
       "       ocean_proximity_ISLAND  ocean_proximity_NEAR BAY  \\\n",
       "11205                       0                         0   \n",
       "19173                       0                         0   \n",
       "1969                        0                         0   \n",
       "386                         0                         1   \n",
       "11983                       0                         0   \n",
       "\n",
       "       ocean_proximity_NEAR OCEAN  above_median  \n",
       "11205                           0         False  \n",
       "19173                           0          True  \n",
       "1969                            0         False  \n",
       "386                             0          True  \n",
       "11983                           0         False  "
      ]
     },
     "execution_count": 17,
     "metadata": {},
     "output_type": "execute_result"
    }
   ],
   "source": [
    "housing.sample(5)"
   ]
  },
  {
   "cell_type": "markdown",
   "metadata": {},
   "source": [
    "### Now seperate attributes(X) and target values(Y)"
   ]
  },
  {
   "cell_type": "code",
   "execution_count": 20,
   "metadata": {},
   "outputs": [],
   "source": [
    "X = housing.drop(['median_house_value', 'above_median'], axis=1)\n",
    "Y = housing['above_median']"
   ]
  },
  {
   "cell_type": "code",
   "execution_count": 21,
   "metadata": {},
   "outputs": [
    {
     "data": {
      "text/plain": [
       "Index(['longitude', 'latitude', 'housing_median_age', 'total_rooms',\n",
       "       'total_bedrooms', 'population', 'households', 'median_income',\n",
       "       'ocean_proximity_<1H OCEAN', 'ocean_proximity_INLAND',\n",
       "       'ocean_proximity_ISLAND', 'ocean_proximity_NEAR BAY',\n",
       "       'ocean_proximity_NEAR OCEAN'],\n",
       "      dtype='object')"
      ]
     },
     "execution_count": 21,
     "metadata": {},
     "output_type": "execute_result"
    }
   ],
   "source": [
    "X.columns"
   ]
  },
  {
   "cell_type": "markdown",
   "metadata": {},
   "source": [
    "### Now split the data for training and testing"
   ]
  },
  {
   "cell_type": "code",
   "execution_count": 23,
   "metadata": {},
   "outputs": [],
   "source": [
    "from sklearn.model_selection import train_test_split\n",
    "\n",
    "x_train, x_test, y_train, y_test = train_test_split(X, Y, test_size = 0.2)"
   ]
  },
  {
   "cell_type": "code",
   "execution_count": 25,
   "metadata": {},
   "outputs": [
    {
     "data": {
      "text/plain": [
       "((15580, 13), (3895, 13))"
      ]
     },
     "execution_count": 25,
     "metadata": {},
     "output_type": "execute_result"
    }
   ],
   "source": [
    "(x_train.shape, x_test.shape)"
   ]
  },
  {
   "cell_type": "code",
   "execution_count": 26,
   "metadata": {},
   "outputs": [
    {
     "data": {
      "text/plain": [
       "((15580,), (3895,))"
      ]
     },
     "execution_count": 26,
     "metadata": {},
     "output_type": "execute_result"
    }
   ],
   "source": [
    "(y_train.shape, y_test.shape)"
   ]
  },
  {
   "cell_type": "markdown",
   "metadata": {},
   "source": [
    "### Now perform logistic regression with training dataset\n"
   ]
  },
  {
   "cell_type": "code",
   "execution_count": 30,
   "metadata": {},
   "outputs": [],
   "source": [
    "from sklearn.linear_model import LogisticRegression\n",
    "logistic_model = LogisticRegression(solver='liblinear').fit(x_train, y_train)"
   ]
  },
  {
   "cell_type": "code",
   "execution_count": 31,
   "metadata": {},
   "outputs": [
    {
     "name": "stdout",
     "output_type": "stream",
     "text": [
      "Training Score :  0.8202182284980745\n"
     ]
    }
   ],
   "source": [
    "# How the score gives us how many of the model predictions are correct\n",
    "print(\"Training Score : \", logistic_model.score(x_train, y_train))"
   ]
  },
  {
   "cell_type": "markdown",
   "metadata": {},
   "source": [
    "### Now logistic regression model is built, lets see how does that perform on Test data\n"
   ]
  },
  {
   "cell_type": "code",
   "execution_count": 32,
   "metadata": {},
   "outputs": [],
   "source": [
    "y_pred = logistic_model.predict(x_test)"
   ]
  },
  {
   "cell_type": "code",
   "execution_count": 33,
   "metadata": {},
   "outputs": [
    {
     "data": {
      "text/html": [
       "<div>\n",
       "<style scoped>\n",
       "    .dataframe tbody tr th:only-of-type {\n",
       "        vertical-align: middle;\n",
       "    }\n",
       "\n",
       "    .dataframe tbody tr th {\n",
       "        vertical-align: top;\n",
       "    }\n",
       "\n",
       "    .dataframe thead th {\n",
       "        text-align: right;\n",
       "    }\n",
       "</style>\n",
       "<table border=\"1\" class=\"dataframe\">\n",
       "  <thead>\n",
       "    <tr style=\"text-align: right;\">\n",
       "      <th></th>\n",
       "      <th>Predicted</th>\n",
       "      <th>Actual</th>\n",
       "    </tr>\n",
       "  </thead>\n",
       "  <tbody>\n",
       "    <tr>\n",
       "      <th>16866</th>\n",
       "      <td>True</td>\n",
       "      <td>True</td>\n",
       "    </tr>\n",
       "    <tr>\n",
       "      <th>14927</th>\n",
       "      <td>True</td>\n",
       "      <td>True</td>\n",
       "    </tr>\n",
       "    <tr>\n",
       "      <th>9564</th>\n",
       "      <td>False</td>\n",
       "      <td>False</td>\n",
       "    </tr>\n",
       "    <tr>\n",
       "      <th>11891</th>\n",
       "      <td>False</td>\n",
       "      <td>False</td>\n",
       "    </tr>\n",
       "    <tr>\n",
       "      <th>6303</th>\n",
       "      <td>True</td>\n",
       "      <td>False</td>\n",
       "    </tr>\n",
       "    <tr>\n",
       "      <th>10933</th>\n",
       "      <td>True</td>\n",
       "      <td>True</td>\n",
       "    </tr>\n",
       "    <tr>\n",
       "      <th>9982</th>\n",
       "      <td>False</td>\n",
       "      <td>False</td>\n",
       "    </tr>\n",
       "    <tr>\n",
       "      <th>16420</th>\n",
       "      <td>False</td>\n",
       "      <td>False</td>\n",
       "    </tr>\n",
       "    <tr>\n",
       "      <th>14000</th>\n",
       "      <td>False</td>\n",
       "      <td>True</td>\n",
       "    </tr>\n",
       "    <tr>\n",
       "      <th>9574</th>\n",
       "      <td>False</td>\n",
       "      <td>False</td>\n",
       "    </tr>\n",
       "    <tr>\n",
       "      <th>11662</th>\n",
       "      <td>True</td>\n",
       "      <td>True</td>\n",
       "    </tr>\n",
       "    <tr>\n",
       "      <th>9828</th>\n",
       "      <td>True</td>\n",
       "      <td>True</td>\n",
       "    </tr>\n",
       "    <tr>\n",
       "      <th>13742</th>\n",
       "      <td>True</td>\n",
       "      <td>True</td>\n",
       "    </tr>\n",
       "    <tr>\n",
       "      <th>4845</th>\n",
       "      <td>True</td>\n",
       "      <td>False</td>\n",
       "    </tr>\n",
       "    <tr>\n",
       "      <th>25</th>\n",
       "      <td>False</td>\n",
       "      <td>False</td>\n",
       "    </tr>\n",
       "    <tr>\n",
       "      <th>6424</th>\n",
       "      <td>False</td>\n",
       "      <td>False</td>\n",
       "    </tr>\n",
       "    <tr>\n",
       "      <th>13523</th>\n",
       "      <td>False</td>\n",
       "      <td>False</td>\n",
       "    </tr>\n",
       "    <tr>\n",
       "      <th>10995</th>\n",
       "      <td>True</td>\n",
       "      <td>True</td>\n",
       "    </tr>\n",
       "    <tr>\n",
       "      <th>3689</th>\n",
       "      <td>False</td>\n",
       "      <td>True</td>\n",
       "    </tr>\n",
       "    <tr>\n",
       "      <th>3745</th>\n",
       "      <td>True</td>\n",
       "      <td>True</td>\n",
       "    </tr>\n",
       "  </tbody>\n",
       "</table>\n",
       "</div>"
      ],
      "text/plain": [
       "       Predicted  Actual\n",
       "16866       True    True\n",
       "14927       True    True\n",
       "9564       False   False\n",
       "11891      False   False\n",
       "6303        True   False\n",
       "10933       True    True\n",
       "9982       False   False\n",
       "16420      False   False\n",
       "14000      False    True\n",
       "9574       False   False\n",
       "11662       True    True\n",
       "9828        True    True\n",
       "13742       True    True\n",
       "4845        True   False\n",
       "25         False   False\n",
       "6424       False   False\n",
       "13523      False   False\n",
       "10995       True    True\n",
       "3689       False    True\n",
       "3745        True    True"
      ]
     },
     "execution_count": 33,
     "metadata": {},
     "output_type": "execute_result"
    }
   ],
   "source": [
    "# lets create new dataframe with predicted values and actual values from test dataset\n",
    "df_pred_actual = pd.DataFrame({'Predicted':y_pred, 'Actual': y_test})\n",
    "df_pred_actual.head(20)"
   ]
  },
  {
   "cell_type": "markdown",
   "metadata": {},
   "source": [
    "### How well the model performed.. Get the accuracy score"
   ]
  },
  {
   "cell_type": "code",
   "execution_count": 34,
   "metadata": {},
   "outputs": [
    {
     "name": "stdout",
     "output_type": "stream",
     "text": [
      "Testing Score :  0.820795892169448\n"
     ]
    }
   ],
   "source": [
    "from sklearn.metrics import accuracy_score\n",
    "print(\"Testing Score : \", accuracy_score(y_test, y_pred))"
   ]
  },
  {
   "cell_type": "code",
   "execution_count": null,
   "metadata": {},
   "outputs": [],
   "source": []
  }
 ],
 "metadata": {
  "kernelspec": {
   "display_name": "Python 3",
   "language": "python",
   "name": "python3"
  },
  "language_info": {
   "codemirror_mode": {
    "name": "ipython",
    "version": 3
   },
   "file_extension": ".py",
   "mimetype": "text/x-python",
   "name": "python",
   "nbconvert_exporter": "python",
   "pygments_lexer": "ipython3",
   "version": "3.8.5"
  }
 },
 "nbformat": 4,
 "nbformat_minor": 4
}
